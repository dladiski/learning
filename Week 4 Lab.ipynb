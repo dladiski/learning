{
 "cells": [
  {
   "cell_type": "markdown",
   "id": "4c192d35-863b-4c5b-9cfe-4d500f58d506",
   "metadata": {},
   "source": [
    "<h1>My Jupyter Notebook on IBM Watson Studio<h1>"
   ]
  },
  {
   "cell_type": "markdown",
   "id": "82a419c0-b229-4a99-b6c6-cdde04ebf4fb",
   "metadata": {},
   "source": [
    "**Dan Ladiski**<br> Data Science Manager"
   ]
  },
  {
   "cell_type": "markdown",
   "id": "caf47a5d-1e4d-4956-acaf-5ae1ec9f2efd",
   "metadata": {},
   "source": [
    "*I am interested in data science because I think there is a lot of untapped value in organizations in utilizing data to solve real business problems. Data can help move organizations beyond long held beliefs of how things are to evidence based decision making.*"
   ]
  },
  {
   "cell_type": "markdown",
   "id": "5a95b64f-44bc-4906-a155-11a9bbbbee8e",
   "metadata": {},
   "source": [
    "<h3>My code in the next cell will solve a simple math problem"
   ]
  },
  {
   "cell_type": "code",
   "execution_count": 3,
   "id": "36f62ea9-c4af-4bf8-b397-0887425c803f",
   "metadata": {},
   "outputs": [
    {
     "data": {
      "text/plain": [
       "2"
      ]
     },
     "execution_count": 3,
     "metadata": {},
     "output_type": "execute_result"
    }
   ],
   "source": [
    "1+1"
   ]
  },
  {
   "cell_type": "markdown",
   "id": "badff4c2-7a02-43fc-ba8f-d4152b3f5fdc",
   "metadata": {},
   "source": [
    "<hr/>\n",
    "\n",
    "This is my list\n",
    "1. List item 1\n",
    "1. List item 2\n",
    "1. List item 3\n",
    "\n",
    "These are my bullets\n",
    "- Bullet 1\n",
    "- Bullet 2\n",
    "- Bullet 3"
   ]
  }
 ],
 "metadata": {
  "kernelspec": {
   "display_name": "Python",
   "language": "python",
   "name": "conda-env-python-py"
  },
  "language_info": {
   "codemirror_mode": {
    "name": "ipython",
    "version": 3
   },
   "file_extension": ".py",
   "mimetype": "text/x-python",
   "name": "python",
   "nbconvert_exporter": "python",
   "pygments_lexer": "ipython3",
   "version": "3.7.12"
  }
 },
 "nbformat": 4,
 "nbformat_minor": 5
}
